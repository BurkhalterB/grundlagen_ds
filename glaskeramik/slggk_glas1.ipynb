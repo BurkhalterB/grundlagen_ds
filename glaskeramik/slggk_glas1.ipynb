{
 "cells": [
  {
   "cell_type": "code",
   "execution_count": 1,
   "metadata": {},
   "outputs": [
    {
     "name": "stdout",
     "output_type": "stream",
     "text": [
      "{'encoding': 'ISO-8859-1', 'confidence': 0.729383387119405, 'language': ''}\n"
     ]
    }
   ],
   "source": [
    "import chardet\n",
    "from chardet.universaldetector import UniversalDetector\n",
    "import codecs\n",
    "#tellme = codecs.open('keramik_glas.csv',encoding='utf-8')\n",
    "tellme = open('keramik_glas.csv','rb')\n",
    "detector = UniversalDetector()\n",
    "for line in tellme.readlines():\n",
    "    detector.feed(line)\n",
    "    if detector.done: break\n",
    "detector.close()\n",
    "tellme.close()\n",
    "print(detector.result)"
   ]
  },
  {
   "cell_type": "code",
   "execution_count": 2,
   "metadata": {},
   "outputs": [
    {
     "name": "stdout",
     "output_type": "stream",
     "text": [
      "diagramm_ueb1.ipynb  slggk_glas1.ipynb\t     slggk_read.ipynb\n",
      "keramik_glas2.csv    slggk_glas2.ipynb\t     Untitled.ipynb\n",
      "keramik_glas.csv     slggk_read-Copy1.ipynb\n"
     ]
    }
   ],
   "source": [
    "!ls"
   ]
  },
  {
   "cell_type": "code",
   "execution_count": 3,
   "metadata": {},
   "outputs": [],
   "source": [
    "import pandas as pd\n",
    "df = pd.read_csv('keramik_glas.csv', sep= \";\", encoding='ISO-8859-1')"
   ]
  },
  {
   "cell_type": "code",
   "execution_count": 4,
   "metadata": {},
   "outputs": [
    {
     "data": {
      "text/plain": [
       "OBJEKT ID                          int64\n",
       "OBJEKT Inventarnummer             object\n",
       "OBJEKT Sammlung                   object\n",
       "OBJEKT Klassifikation             object\n",
       "OBJEKT Webtext                    object\n",
       "OBJEKT Datierung                  object\n",
       "OBJEKT -> Herstellung             object\n",
       "OBJEKT -> Herkunft                object\n",
       "OBJEKT -> Inhalt                  object\n",
       "OBJEKT -> Masse                   object\n",
       "OBJEKT -> Material und Technik    object\n",
       "dtype: object"
      ]
     },
     "execution_count": 4,
     "metadata": {},
     "output_type": "execute_result"
    }
   ],
   "source": [
    "df.dtypes"
   ]
  },
  {
   "cell_type": "code",
   "execution_count": 5,
   "metadata": {},
   "outputs": [
    {
     "data": {
      "text/plain": [
       "Index(['OBJEKT ID', 'OBJEKT Inventarnummer', 'OBJEKT Sammlung',\n",
       "       'OBJEKT Klassifikation', 'OBJEKT Webtext', 'OBJEKT Datierung',\n",
       "       'OBJEKT -> Herstellung', 'OBJEKT -> Herkunft', 'OBJEKT -> Inhalt',\n",
       "       'OBJEKT -> Masse', 'OBJEKT -> Material und Technik'],\n",
       "      dtype='object')"
      ]
     },
     "execution_count": 5,
     "metadata": {},
     "output_type": "execute_result"
    }
   ],
   "source": [
    "df.columns"
   ]
  },
  {
   "cell_type": "code",
   "execution_count": 9,
   "metadata": {},
   "outputs": [
    {
     "data": {
      "text/plain": [
       "['ID',\n",
       " 'Inventarnummer',\n",
       " 'Sammlung',\n",
       " 'Klassifikation',\n",
       " 'Webtext',\n",
       " 'Datierung',\n",
       " 'Herstellung',\n",
       " 'Herkunft',\n",
       " 'Inhalt',\n",
       " 'Masse',\n",
       " 'Material und Technik']"
      ]
     },
     "execution_count": 9,
     "metadata": {},
     "output_type": "execute_result"
    }
   ],
   "source": [
    "import re\n",
    "x = [re.sub('OBJEKT -*>* *','',col) for col in df.columns]\n",
    "x"
   ]
  },
  {
   "cell_type": "code",
   "execution_count": 11,
   "metadata": {},
   "outputs": [
    {
     "data": {
      "text/html": [
       "<div>\n",
       "<style scoped>\n",
       "    .dataframe tbody tr th:only-of-type {\n",
       "        vertical-align: middle;\n",
       "    }\n",
       "\n",
       "    .dataframe tbody tr th {\n",
       "        vertical-align: top;\n",
       "    }\n",
       "\n",
       "    .dataframe thead th {\n",
       "        text-align: right;\n",
       "    }\n",
       "</style>\n",
       "<table border=\"1\" class=\"dataframe\">\n",
       "  <thead>\n",
       "    <tr style=\"text-align: right;\">\n",
       "      <th></th>\n",
       "      <th>ID</th>\n",
       "      <th>Inventarnummer</th>\n",
       "      <th>Sammlung</th>\n",
       "      <th>Klassifikation</th>\n",
       "      <th>Webtext</th>\n",
       "      <th>Datierung</th>\n",
       "      <th>Herstellung</th>\n",
       "      <th>Herkunft</th>\n",
       "      <th>Inhalt</th>\n",
       "      <th>Masse</th>\n",
       "      <th>Material und Technik</th>\n",
       "    </tr>\n",
       "  </thead>\n",
       "  <tbody>\n",
       "    <tr>\n",
       "      <td>0</td>\n",
       "      <td>355773</td>\n",
       "      <td>AG-304</td>\n",
       "      <td>Keramik</td>\n",
       "      <td>Figur</td>\n",
       "      <td>Kopf einer Dame mit Rüschenhaube und Wimpel. H...</td>\n",
       "      <td>1400 (Um)</td>\n",
       "      <td>Zürich.</td>\n",
       "      <td></td>\n",
       "      <td>NaN</td>\n",
       "      <td>Höhe 4.5 cm, Breite 5 cm.</td>\n",
       "      <td>Terracotta.</td>\n",
       "    </tr>\n",
       "    <tr>\n",
       "      <td>1</td>\n",
       "      <td>332646</td>\n",
       "      <td>AG-324</td>\n",
       "      <td>Keramik</td>\n",
       "      <td>Reliefkachel</td>\n",
       "      <td>Reliefkachel. Basisgesimkachel mit nach links ...</td>\n",
       "      <td>1430 - 1450 (Um)</td>\n",
       "      <td>Zürich.</td>\n",
       "      <td>(Rennweg 60)</td>\n",
       "      <td>Drache.</td>\n",
       "      <td>Höhe 19.5 cm, Breite 20 cm.\\rBild: Höhe 8 cm, ...</td>\n",
       "      <td>Keramik, glasiert.</td>\n",
       "    </tr>\n",
       "    <tr>\n",
       "      <td>2</td>\n",
       "      <td>332650</td>\n",
       "      <td>AG-326</td>\n",
       "      <td>Keramik</td>\n",
       "      <td>Reliefkachel</td>\n",
       "      <td>Reliefkachel. Trapezkachel mit hockendem Hund,...</td>\n",
       "      <td>1380 - 1400 (Um)</td>\n",
       "      <td>Zürich.</td>\n",
       "      <td></td>\n",
       "      <td>Hund.</td>\n",
       "      <td>Höhe 14.5 cm, Breite 14.5 cm.</td>\n",
       "      <td>Keramik, glasiert.</td>\n",
       "    </tr>\n",
       "    <tr>\n",
       "      <td>3</td>\n",
       "      <td>332651</td>\n",
       "      <td>AG-328</td>\n",
       "      <td>Keramik</td>\n",
       "      <td>Reliefkachel</td>\n",
       "      <td>Bruchstück einer Füllkachel mit einer Frau mit...</td>\n",
       "      <td>1380 - 1390 (Um)</td>\n",
       "      <td>Zürich.</td>\n",
       "      <td>(gefunden 1881)</td>\n",
       "      <td>Frauenkopf (mit Krüseler).</td>\n",
       "      <td>Höhe 12 cm, Breite 16 cm.</td>\n",
       "      <td>Keramik, glasiert.</td>\n",
       "    </tr>\n",
       "    <tr>\n",
       "      <td>4</td>\n",
       "      <td>332652</td>\n",
       "      <td>AG-329</td>\n",
       "      <td>Keramik</td>\n",
       "      <td>Reliefkachel</td>\n",
       "      <td>Reliefkachel. Quadratische Füllkachel mit nach...</td>\n",
       "      <td>1420 - 1430 (Um)</td>\n",
       "      <td>Zürich.</td>\n",
       "      <td>(gefunden 1881)</td>\n",
       "      <td>Greif.</td>\n",
       "      <td>Höhe 17.1 cm, Breite 17 cm.\\rBild: Höhe 15.5 c...</td>\n",
       "      <td>Keramik, glasiert.</td>\n",
       "    </tr>\n",
       "  </tbody>\n",
       "</table>\n",
       "</div>"
      ],
      "text/plain": [
       "       ID Inventarnummer Sammlung Klassifikation  \\\n",
       "0  355773         AG-304  Keramik          Figur   \n",
       "1  332646         AG-324  Keramik   Reliefkachel   \n",
       "2  332650         AG-326  Keramik   Reliefkachel   \n",
       "3  332651         AG-328  Keramik   Reliefkachel   \n",
       "4  332652         AG-329  Keramik   Reliefkachel   \n",
       "\n",
       "                                             Webtext         Datierung  \\\n",
       "0  Kopf einer Dame mit Rüschenhaube und Wimpel. H...         1400 (Um)   \n",
       "1  Reliefkachel. Basisgesimkachel mit nach links ...  1430 - 1450 (Um)   \n",
       "2  Reliefkachel. Trapezkachel mit hockendem Hund,...  1380 - 1400 (Um)   \n",
       "3  Bruchstück einer Füllkachel mit einer Frau mit...  1380 - 1390 (Um)   \n",
       "4  Reliefkachel. Quadratische Füllkachel mit nach...  1420 - 1430 (Um)   \n",
       "\n",
       "  Herstellung            Herkunft                        Inhalt  \\\n",
       "0    Zürich.                                                NaN   \n",
       "1    Zürich.         (Rennweg 60)                      Drache.    \n",
       "2    Zürich.                                             Hund.    \n",
       "3    Zürich.      (gefunden 1881)   Frauenkopf (mit Krüseler).    \n",
       "4    Zürich.      (gefunden 1881)                       Greif.    \n",
       "\n",
       "                                               Masse Material und Technik  \n",
       "0                          Höhe 4.5 cm, Breite 5 cm.          Terracotta.  \n",
       "1  Höhe 19.5 cm, Breite 20 cm.\\rBild: Höhe 8 cm, ...   Keramik, glasiert.  \n",
       "2                      Höhe 14.5 cm, Breite 14.5 cm.   Keramik, glasiert.  \n",
       "3                          Höhe 12 cm, Breite 16 cm.   Keramik, glasiert.  \n",
       "4  Höhe 17.1 cm, Breite 17 cm.\\rBild: Höhe 15.5 c...   Keramik, glasiert.  "
      ]
     },
     "execution_count": 11,
     "metadata": {},
     "output_type": "execute_result"
    }
   ],
   "source": [
    "df.columns = x\n",
    "df.head()"
   ]
  },
  {
   "cell_type": "code",
   "execution_count": null,
   "metadata": {},
   "outputs": [],
   "source": []
  }
 ],
 "metadata": {
  "kernelspec": {
   "display_name": "Python 3",
   "language": "python",
   "name": "python3"
  },
  "language_info": {
   "codemirror_mode": {
    "name": "ipython",
    "version": 3
   },
   "file_extension": ".py",
   "mimetype": "text/x-python",
   "name": "python",
   "nbconvert_exporter": "python",
   "pygments_lexer": "ipython3",
   "version": "3.7.5"
  }
 },
 "nbformat": 4,
 "nbformat_minor": 4
}
