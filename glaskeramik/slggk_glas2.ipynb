{
 "cells": [
  {
   "cell_type": "code",
   "execution_count": 1,
   "metadata": {},
   "outputs": [
    {
     "name": "stdout",
     "output_type": "stream",
     "text": [
      "{'encoding': 'ISO-8859-1', 'confidence': 0.7293832763566348, 'language': ''}\n"
     ]
    }
   ],
   "source": [
    "import chardet\n",
    "from chardet.universaldetector import UniversalDetector\n",
    "import codecs\n",
    "#tellme = codecs.open('keramik_glas.csv',encoding='utf-8')\n",
    "tellme = open('keramik_glas2.csv','rb')\n",
    "detector = UniversalDetector()\n",
    "for line in tellme.readlines():\n",
    "    detector.feed(line)\n",
    "    if detector.done: break\n",
    "detector.close()\n",
    "tellme.close()\n",
    "print(detector.result)"
   ]
  },
  {
   "cell_type": "code",
   "execution_count": 2,
   "metadata": {},
   "outputs": [
    {
     "name": "stdout",
     "output_type": "stream",
     "text": [
      "diagramm_ueb1.ipynb  slggk_glas1.ipynb\t     slggk_read.ipynb\n",
      "keramik_glas2.csv    slggk_glas2.ipynb\t     Untitled.ipynb\n",
      "keramik_glas.csv     slggk_read-Copy1.ipynb\n"
     ]
    }
   ],
   "source": [
    "!ls"
   ]
  },
  {
   "cell_type": "code",
   "execution_count": 3,
   "metadata": {},
   "outputs": [],
   "source": [
    "import pandas as pd\n",
    "df = pd.read_csv('keramik_glas2.csv', sep= \";\", encoding='ISO-8859-1')"
   ]
  },
  {
   "cell_type": "code",
   "execution_count": 4,
   "metadata": {},
   "outputs": [
    {
     "data": {
      "text/plain": [
       " ID                       int64\n",
       " Inventarnummer          object\n",
       " Sammlung                object\n",
       " Klassifikation          object\n",
       " Webtext                 object\n",
       " Datierung               object\n",
       " Herstellung             object\n",
       " Herkunft                object\n",
       " Inhalt                  object\n",
       " Masse                   object\n",
       " Material und Technik    object\n",
       "dtype: object"
      ]
     },
     "execution_count": 4,
     "metadata": {},
     "output_type": "execute_result"
    }
   ],
   "source": [
    "df.dtypes"
   ]
  },
  {
   "cell_type": "code",
   "execution_count": 5,
   "metadata": {},
   "outputs": [
    {
     "data": {
      "text/plain": [
       "Index([' ID', ' Inventarnummer', ' Sammlung', ' Klassifikation', ' Webtext',\n",
       "       ' Datierung', ' Herstellung', ' Herkunft', ' Inhalt', ' Masse',\n",
       "       ' Material und Technik'],\n",
       "      dtype='object')"
      ]
     },
     "execution_count": 5,
     "metadata": {},
     "output_type": "execute_result"
    }
   ],
   "source": [
    "df.columns"
   ]
  },
  {
   "cell_type": "code",
   "execution_count": 6,
   "metadata": {},
   "outputs": [],
   "source": [
    "# Jeden Begriff der Spalte Klassifikation ausgeben"
   ]
  },
  {
   "cell_type": "code",
   "execution_count": 7,
   "metadata": {},
   "outputs": [
    {
     "data": {
      "text/plain": [
       "array(['Figur', 'Reliefkachel', 'Eckkachel', 'Füllkachel', 'Kranzkachel',\n",
       "       'Kranzgesimskachel', 'Nischenkachel', 'Frieskachel',\n",
       "       'Tellerkachel', 'Medaillonkachel', 'Aquamanile (Handgiessgefäss)',\n",
       "       'Schröpfkopf', 'Topf (Apotheke)', 'Henkelkrug',\n",
       "       'Schraubflasche (Geschirr)', 'Wappenplatte', 'Teller',\n",
       "       'Breitrandplatte', 'Fussschüssel', 'Ofenmodell', 'Plakette',\n",
       "       'Grabplatte', 'Basisgesimskachel', 'Ofenkachel', 'Pilzkachel',\n",
       "       'Figürchen', 'Platte (Geschirr)', 'Breitrandteller', 'Blumentopf',\n",
       "       'Humpen', 'Fussschale', 'Kachelofen', 'Untertasse', 'Teekanne',\n",
       "       'Milchkännchen', 'Zuckerdose, -büchse', 'Kännchen',\n",
       "       'Schwenkschale', 'Butterplättchen', 'Kelchglas', 'Vase',\n",
       "       'Deckelpokal', 'Zierschale', 'Gewürzgarnitur', 'Statuette',\n",
       "       'Büste', 'Figurengruppe', 'Briefbeschwerer',\n",
       "       'Untersatz (Geschirr)', 'Leuchte (Girandole)',\n",
       "       'Leuchter (Kerzenstock)', 'Öl-/Essigständer', 'Zuckerstreuer',\n",
       "       'Zuckerschale', 'Buttermulde', 'Fruchtkorb', 'Henkelkanne',\n",
       "       'Kompottschüssel', 'Corniche-Platte', 'Sulzplatte', 'Rasierbecken',\n",
       "       'Teedose', 'Griff', 'Schale', 'Henkeltasse', 'Deckeldose',\n",
       "       'Sparbüchse', 'Milchkanne', 'Kaffeekanne', 'Kindergeschirr',\n",
       "       'Koppchen', 'Suppenteller', 'Salatschüssel', 'Deckelterrine',\n",
       "       'Saucière', 'Zuckerdose', 'Wasserkessel (Tafelzub.)', 'Trembleuse',\n",
       "       'Tasse', 'Tafelaufsatz', 'Salzgefäss', 'Zuckerstreulöffel',\n",
       "       'Senfgefäss', 'Pfeffergefäss', 'Suppenschüssel', 'Flaschenkühler',\n",
       "       'Helmkanne', 'Ziervase', 'Deckelhumpen', nan, 'Teebrett',\n",
       "       'Fischplatte', 'Veilleuse', 'Bartschale', 'Gewürzbehälter',\n",
       "       'Stegkanne', 'Albarello', 'Krug', 'Tintengeschirr', 'Wappenteller',\n",
       "       'Schaugericht', 'Schüssel', 'Schälchen', 'Schüsselplatte',\n",
       "       'Ofenschild', 'Medaillon', 'Kanne', 'Erinnerungsstück',\n",
       "       'Deckelkrug', 'Giessfass', 'Hängvase', 'Bügelkanne', 'Fass',\n",
       "       'Deckelkanne', 'Blumengeschirr', 'Terrine', 'Servierplatte',\n",
       "       'Deckel (Tafelzubehör)', 'Konsole (Architekturteil)',\n",
       "       'Rasierschüssel', 'Fächerschüssel', 'Wandappliken',\n",
       "       'Korb (Tafelzubehör)', 'Blattkachel', 'Deckelbecher', 'Untersatz',\n",
       "       'Flötpfeifchen', 'Handbecken', 'Deckelschale', 'Gesimskachel',\n",
       "       'Parfumflacon', 'Pokal', 'Teller mit Abtropfsieb', 'Glas',\n",
       "       'Tintengefäss', 'Puderdose', 'Reliefkachelofen', 'Halbkachel',\n",
       "       'Fliese', 'Bekrönungskachel', 'Giebelkachel', 'Relief',\n",
       "       'Dreieckkachel', 'Tabaktopf', 'Fussbecher', 'Flasche (Apoth.)',\n",
       "       'Napf', 'Weinkaraffe', 'Grabmal', 'Glas (Apotheke)',\n",
       "       'Kachelmodel (Keramikprod.)', 'Dose (Geschirr)',\n",
       "       'Gefäss (Apotheke)', 'Trinkschale', 'Zylinderflasche', 'Karaffe',\n",
       "       'Butterfass', 'Reliquienglas', 'Bechertasse', 'Becher',\n",
       "       'Kaffeekrug', 'Tabakdose', 'Schnapsflasche', 'Toilettengarnitur',\n",
       "       'Deckeltasse', 'Flasche', 'Deckelschüssel', 'Scherztrinkgefäss',\n",
       "       'Trinkfässchen', 'Früchteschale', 'Leistenkachel', 'Hängekachel',\n",
       "       'Sirupgefäss', 'Schmalztopf', 'Zunftzeichen', 'Lisenenkachel',\n",
       "       'Reliefbackstein', 'Topf', 'Uhrengehäuse', 'Feldflasche',\n",
       "       'Reliefplastik', 'Weihwasserbecken', 'Standleuchter',\n",
       "       'Rundmedaillon', 'Teekessel', 'Wandplatte', 'Service',\n",
       "       'Wappenkachel', 'Giessgefäss (Geschirr)', 'Bulge', 'Stangenglas',\n",
       "       'Form (Keramikprod.)', 'Dessertmesser', 'Buttertopf (Butterhafen)',\n",
       "       'Siebkrug', 'Fliegenglas', 'Milchschüssel', 'Dreibeintopf',\n",
       "       'Ofenkachelfragment', 'Nachttopf', 'Becherkachel', 'Boccalino',\n",
       "       'Schützenteller', 'Bodenfunde', 'Konfektschale (Geschirr)',\n",
       "       'Ranftbecher', 'Weinflasche', 'Vorlegeschale', 'Salatteller',\n",
       "       'Henkeltopf', 'Korbuntersatz', 'Weinkühler', 'Wasserkanne',\n",
       "       'Wandteller', 'Wasserkanne (Hygiene/Körperpflege)',\n",
       "       'Wasserbecken (Hygiene/Körperpflege)', 'Dessertteller',\n",
       "       'Feldflasche (Verpflegung)', 'Henkelglas', 'Verrière',\n",
       "       'Potpourri (Wohnaccessoires)', 'Dose (Wohnaccessoire)',\n",
       "       'Heiliggrableuchte', 'Traggefäss', 'Traghenkelgefäss',\n",
       "       'Pfännchen / Deckel', 'Behälter (Kosmetik)', 'Henkelflasche',\n",
       "       'Schokoladekanne', 'Ohrentasse', 'Rahmkännchen / Crémier',\n",
       "       'Schreibzeuggarnitur', 'Kredenz', 'Badeglas', 'Kinderteller',\n",
       "       'Korbgefäss', 'Korbgefässuntersatz', 'Kinderbecher', 'Kopf',\n",
       "       'Werkstattschild (Firmenschild)', 'Sirupkanne', 'Nadelbüchse',\n",
       "       'Kugelvase', 'Dreibeinkanne', 'Aschenbecher', 'Messkännchen',\n",
       "       'Schreibzeuggefäss', 'Fliesenbild', 'Doppelhenkelvase',\n",
       "       'Tabakpfeife', 'Henkelschale', 'Porte-carte', 'Abhandlung',\n",
       "       'Glasziegel', 'Deckeltopf', 'Schokoladentasse', 'Zierteller',\n",
       "       'Fussglas', 'Andenkenglas', 'Staufbecher', 'Souvenirteller',\n",
       "       'Werbeträger allg.', 'Kuchenteller', 'Blumenvase', 'Kuchenplatte',\n",
       "       'Mokkatasse', 'Öl-Essigflasche', 'Kühlgefäss', 'Ofenbekrönung',\n",
       "       'Zierplatte', 'Backsteinfliese', 'Unterteller', 'Medizinalflasche',\n",
       "       'Römerbecher', 'Sektglas', 'Kumme', 'Tablett/Plateau', 'Bildtafel',\n",
       "       'Enghalskanne', 'Präsentierplatte', 'Cachepot', 'Bartschüssel',\n",
       "       'Nachtleuchter', 'Butterdose', 'Briefhalter', 'Butterschale',\n",
       "       'Senftopf', 'Tortenplatte', 'Krankentasse', 'Epitaph', 'Skulptur',\n",
       "       'Tisch', 'Vorratsgefäss', 'Kaffee- und Teeservice', 'Röstiplatte',\n",
       "       'Einmachglas', 'Teeservice', 'Grenzzeuge, Grenzsteinzeuge',\n",
       "       'Geschirr', 'Waschgarnitur', 'Gefäss', 'Deckelvase', 'Henkelvase',\n",
       "       'Topf (Küche)', 'Puppengeschirr', 'Pfeifenkopf', 'Puddingform',\n",
       "       'Dessertservice', 'Kaffeeservice', 'Objekt unbestimmt',\n",
       "       'Plättchen'], dtype=object)"
      ]
     },
     "execution_count": 7,
     "metadata": {},
     "output_type": "execute_result"
    }
   ],
   "source": [
    "df[' Klassifikation'].unique()"
   ]
  },
  {
   "cell_type": "code",
   "execution_count": 8,
   "metadata": {},
   "outputs": [],
   "source": [
    "# Anzahl Klassen zurückgeben "
   ]
  },
  {
   "cell_type": "code",
   "execution_count": 9,
   "metadata": {},
   "outputs": [
    {
     "data": {
      "text/plain": [
       "310"
      ]
     },
     "execution_count": 9,
     "metadata": {},
     "output_type": "execute_result"
    }
   ],
   "source": [
    "df[' Klassifikation'].nunique()"
   ]
  },
  {
   "cell_type": "code",
   "execution_count": 10,
   "metadata": {},
   "outputs": [],
   "source": [
    "# Leere Klassen ausschliessen"
   ]
  },
  {
   "cell_type": "code",
   "execution_count": 11,
   "metadata": {},
   "outputs": [],
   "source": [
    "klassen = pd.Series(df[' Klassifikation'].unique())\n",
    "klassen = klassen.dropna()"
   ]
  },
  {
   "cell_type": "code",
   "execution_count": 12,
   "metadata": {},
   "outputs": [],
   "source": [
    "# Klassen in Strings umwandeln"
   ]
  },
  {
   "cell_type": "code",
   "execution_count": 13,
   "metadata": {},
   "outputs": [
    {
     "data": {
      "text/plain": [
       "dtype('O')"
      ]
     },
     "execution_count": 13,
     "metadata": {},
     "output_type": "execute_result"
    }
   ],
   "source": [
    "s=klassen.astype(str)\n",
    "s.dtype"
   ]
  },
  {
   "cell_type": "code",
   "execution_count": 14,
   "metadata": {},
   "outputs": [],
   "source": [
    "# Funktion um Fehler zu ermitteln"
   ]
  },
  {
   "cell_type": "code",
   "execution_count": 15,
   "metadata": {},
   "outputs": [],
   "source": [
    "def f(s):\n",
    "    try:\n",
    "        return s[:15]\n",
    "    except TypeError as err:\n",
    "        print('TypeError:',s)\n",
    "        raise"
   ]
  },
  {
   "cell_type": "code",
   "execution_count": 16,
   "metadata": {},
   "outputs": [
    {
     "data": {
      "text/plain": [
       "Series([], dtype: object)"
      ]
     },
     "execution_count": 16,
     "metadata": {},
     "output_type": "execute_result"
    }
   ],
   "source": [
    "isna = pd.Series(klassen).isnull()\n",
    "klassen = pd.Series(klassen)\n",
    "pd.Series(klassen)[isna]"
   ]
  },
  {
   "cell_type": "code",
   "execution_count": 17,
   "metadata": {},
   "outputs": [],
   "source": [
    "# The map() function is used to map values of Series according to input correspondence.\n",
    "\n",
    "# Used for substituting each value in a Series with another value, that may be derived from a function, a dict or a Series."
   ]
  },
  {
   "cell_type": "code",
   "execution_count": 18,
   "metadata": {},
   "outputs": [
    {
     "data": {
      "text/plain": [
       "0                Figur\n",
       "1         Reliefkachel\n",
       "2            Eckkachel\n",
       "3           Füllkachel\n",
       "4          Kranzkachel\n",
       "            ...       \n",
       "306        Puddingform\n",
       "307     Dessertservice\n",
       "308      Kaffeeservice\n",
       "309    Objekt unbestim\n",
       "310          Plättchen\n",
       "Length: 310, dtype: object"
      ]
     },
     "execution_count": 18,
     "metadata": {},
     "output_type": "execute_result"
    }
   ],
   "source": [
    "pd.Series(klassen).map(f)"
   ]
  },
  {
   "cell_type": "code",
   "execution_count": 19,
   "metadata": {},
   "outputs": [
    {
     "name": "stdout",
     "output_type": "stream",
     "text": [
      "Figur\n",
      "Reliefkachel\n",
      "Eckkachel\n",
      "Füllkachel\n",
      "Kranzkachel\n",
      "Kranzgesimskachel\n",
      "Nischenkachel\n",
      "Frieskachel\n",
      "Tellerkachel\n",
      "Medaillonkachel\n",
      "Aquamanile (Handgiessgefäss)\n",
      "Schröpfkopf\n",
      "Topf (Apotheke)\n",
      "Henkelkrug\n",
      "Schraubflasche (Geschirr)\n",
      "Wappenplatte\n",
      "Teller\n",
      "Breitrandplatte\n",
      "Fussschüssel\n",
      "Ofenmodell\n",
      "Plakette\n",
      "Grabplatte\n",
      "Basisgesimskachel\n",
      "Ofenkachel\n",
      "Pilzkachel\n",
      "Figürchen\n",
      "Platte (Geschirr)\n",
      "Breitrandteller\n",
      "Blumentopf\n",
      "Humpen\n",
      "Fussschale\n",
      "Kachelofen\n",
      "Untertasse\n",
      "Teekanne\n",
      "Milchkännchen\n",
      "Zuckerdose, -büchse\n",
      "Kännchen\n",
      "Schwenkschale\n",
      "Butterplättchen\n",
      "Kelchglas\n",
      "Vase\n",
      "Deckelpokal\n",
      "Zierschale\n",
      "Gewürzgarnitur\n",
      "Statuette\n",
      "Büste\n",
      "Figurengruppe\n",
      "Briefbeschwerer\n",
      "Untersatz (Geschirr)\n",
      "Leuchte (Girandole)\n",
      "Leuchter (Kerzenstock)\n",
      "Öl-/Essigständer\n",
      "Zuckerstreuer\n",
      "Zuckerschale\n",
      "Buttermulde\n",
      "Fruchtkorb\n",
      "Henkelkanne\n",
      "Kompottschüssel\n",
      "Corniche-Platte\n",
      "Sulzplatte\n",
      "Rasierbecken\n",
      "Teedose\n",
      "Griff\n",
      "Schale\n",
      "Henkeltasse\n",
      "Deckeldose\n",
      "Sparbüchse\n",
      "Milchkanne\n",
      "Kaffeekanne\n",
      "Kindergeschirr\n",
      "Koppchen\n",
      "Suppenteller\n",
      "Salatschüssel\n",
      "Deckelterrine\n",
      "Saucière\n",
      "Zuckerdose\n",
      "Wasserkessel (Tafelzub.)\n",
      "Trembleuse\n",
      "Tasse\n",
      "Tafelaufsatz\n",
      "Salzgefäss\n",
      "Zuckerstreulöffel\n",
      "Senfgefäss\n",
      "Pfeffergefäss\n",
      "Suppenschüssel\n",
      "Flaschenkühler\n",
      "Helmkanne\n",
      "Ziervase\n",
      "Deckelhumpen\n",
      "Teebrett\n",
      "Fischplatte\n",
      "Veilleuse\n",
      "Bartschale\n",
      "Gewürzbehälter\n",
      "Stegkanne\n",
      "Albarello\n",
      "Krug\n",
      "Tintengeschirr\n",
      "Wappenteller\n",
      "Schaugericht\n",
      "Schüssel\n",
      "Schälchen\n",
      "Schüsselplatte\n",
      "Ofenschild\n",
      "Medaillon\n",
      "Kanne\n",
      "Erinnerungsstück\n",
      "Deckelkrug\n",
      "Giessfass\n",
      "Hängvase\n",
      "Bügelkanne\n",
      "Fass\n",
      "Deckelkanne\n",
      "Blumengeschirr\n",
      "Terrine\n",
      "Servierplatte\n",
      "Deckel (Tafelzubehör)\n",
      "Konsole (Architekturteil)\n",
      "Rasierschüssel\n",
      "Fächerschüssel\n",
      "Wandappliken\n",
      "Korb (Tafelzubehör)\n",
      "Blattkachel\n",
      "Deckelbecher\n",
      "Untersatz\n",
      "Flötpfeifchen\n",
      "Handbecken\n",
      "Deckelschale\n",
      "Gesimskachel\n",
      "Parfumflacon\n",
      "Pokal\n",
      "Teller mit Abtropfsieb\n",
      "Glas\n",
      "Tintengefäss\n",
      "Puderdose\n",
      "Reliefkachelofen\n",
      "Halbkachel\n",
      "Fliese\n",
      "Bekrönungskachel\n",
      "Giebelkachel\n",
      "Relief\n",
      "Dreieckkachel\n",
      "Tabaktopf\n",
      "Fussbecher\n",
      "Flasche (Apoth.)\n",
      "Napf\n",
      "Weinkaraffe\n",
      "Grabmal\n",
      "Glas (Apotheke)\n",
      "Kachelmodel (Keramikprod.)\n",
      "Dose (Geschirr)\n",
      "Gefäss (Apotheke)\n",
      "Trinkschale\n",
      "Zylinderflasche\n",
      "Karaffe\n",
      "Butterfass\n",
      "Reliquienglas\n",
      "Bechertasse\n",
      "Becher\n",
      "Kaffeekrug\n",
      "Tabakdose\n",
      "Schnapsflasche\n",
      "Toilettengarnitur\n",
      "Deckeltasse\n",
      "Flasche\n",
      "Deckelschüssel\n",
      "Scherztrinkgefäss\n",
      "Trinkfässchen\n",
      "Früchteschale\n",
      "Leistenkachel\n",
      "Hängekachel\n",
      "Sirupgefäss\n",
      "Schmalztopf\n",
      "Zunftzeichen\n",
      "Lisenenkachel\n",
      "Reliefbackstein\n",
      "Topf\n",
      "Uhrengehäuse\n",
      "Feldflasche\n",
      "Reliefplastik\n",
      "Weihwasserbecken\n",
      "Standleuchter\n",
      "Rundmedaillon\n",
      "Teekessel\n",
      "Wandplatte\n",
      "Service\n",
      "Wappenkachel\n",
      "Giessgefäss (Geschirr)\n",
      "Bulge\n",
      "Stangenglas\n",
      "Form (Keramikprod.)\n",
      "Dessertmesser\n",
      "Buttertopf (Butterhafen)\n",
      "Siebkrug\n",
      "Fliegenglas\n",
      "Milchschüssel\n",
      "Dreibeintopf\n",
      "Ofenkachelfragment\n",
      "Nachttopf\n",
      "Becherkachel\n",
      "Boccalino\n",
      "Schützenteller\n",
      "Bodenfunde\n",
      "Konfektschale (Geschirr)\n",
      "Ranftbecher\n",
      "Weinflasche\n",
      "Vorlegeschale\n",
      "Salatteller\n",
      "Henkeltopf\n",
      "Korbuntersatz\n",
      "Weinkühler\n",
      "Wasserkanne\n",
      "Wandteller\n",
      "Wasserkanne (Hygiene/Körperpflege)\n",
      "Wasserbecken (Hygiene/Körperpflege)\n",
      "Dessertteller\n",
      "Feldflasche (Verpflegung)\n",
      "Henkelglas\n",
      "Verrière\n",
      "Potpourri (Wohnaccessoires)\n",
      "Dose (Wohnaccessoire)\n",
      "Heiliggrableuchte\n",
      "Traggefäss\n",
      "Traghenkelgefäss\n",
      "Pfännchen / Deckel\n",
      "Behälter (Kosmetik)\n",
      "Henkelflasche\n",
      "Schokoladekanne\n",
      "Ohrentasse\n",
      "Rahmkännchen / Crémier\n",
      "Schreibzeuggarnitur\n",
      "Kredenz\n",
      "Badeglas\n",
      "Kinderteller\n",
      "Korbgefäss\n",
      "Korbgefässuntersatz\n",
      "Kinderbecher\n",
      "Kopf\n",
      "Werkstattschild (Firmenschild)\n",
      "Sirupkanne\n",
      "Nadelbüchse\n",
      "Kugelvase\n",
      "Dreibeinkanne\n",
      "Aschenbecher\n",
      "Messkännchen\n",
      "Schreibzeuggefäss\n",
      "Fliesenbild\n",
      "Doppelhenkelvase\n",
      "Tabakpfeife\n",
      "Henkelschale\n",
      "Porte-carte\n",
      "Abhandlung\n",
      "Glasziegel\n",
      "Deckeltopf\n",
      "Schokoladentasse\n",
      "Zierteller\n",
      "Fussglas\n",
      "Andenkenglas\n",
      "Staufbecher\n",
      "Souvenirteller\n",
      "Werbeträger allg.\n",
      "Kuchenteller\n",
      "Blumenvase\n",
      "Kuchenplatte\n",
      "Mokkatasse\n",
      "Öl-Essigflasche\n",
      "Kühlgefäss\n",
      "Ofenbekrönung\n",
      "Zierplatte\n",
      "Backsteinfliese\n",
      "Unterteller\n",
      "Medizinalflasche\n",
      "Römerbecher\n",
      "Sektglas\n",
      "Kumme\n",
      "Tablett/Plateau\n",
      "Bildtafel\n",
      "Enghalskanne\n",
      "Präsentierplatte\n",
      "Cachepot\n",
      "Bartschüssel\n",
      "Nachtleuchter\n",
      "Butterdose\n",
      "Briefhalter\n",
      "Butterschale\n",
      "Senftopf\n",
      "Tortenplatte\n",
      "Krankentasse\n",
      "Epitaph\n",
      "Skulptur\n",
      "Tisch\n",
      "Vorratsgefäss\n",
      "Kaffee- und Teeservice\n",
      "Röstiplatte\n",
      "Einmachglas\n",
      "Teeservice\n",
      "Grenzzeuge, Grenzsteinzeuge\n",
      "Geschirr\n",
      "Waschgarnitur\n",
      "Gefäss\n",
      "Deckelvase\n",
      "Henkelvase\n",
      "Topf (Küche)\n",
      "Puppengeschirr\n",
      "Pfeifenkopf\n",
      "Puddingform\n",
      "Dessertservice\n",
      "Kaffeeservice\n",
      "Objekt unbestimmt\n",
      "Plättchen\n"
     ]
    }
   ],
   "source": [
    "for alleklassen in pd.Series(klassen): \n",
    "    print(alleklassen)"
   ]
  },
  {
   "cell_type": "code",
   "execution_count": 20,
   "metadata": {},
   "outputs": [
    {
     "data": {
      "text/plain": [
       "<pandas.core.groupby.generic.DataFrameGroupBy object at 0x7feb64997b90>"
      ]
     },
     "execution_count": 20,
     "metadata": {},
     "output_type": "execute_result"
    }
   ],
   "source": [
    "df.groupby(' Klassifikation')"
   ]
  },
  {
   "cell_type": "code",
   "execution_count": 21,
   "metadata": {},
   "outputs": [
    {
     "data": {
      "text/html": [
       "<div>\n",
       "<style scoped>\n",
       "    .dataframe tbody tr th:only-of-type {\n",
       "        vertical-align: middle;\n",
       "    }\n",
       "\n",
       "    .dataframe tbody tr th {\n",
       "        vertical-align: top;\n",
       "    }\n",
       "\n",
       "    .dataframe thead th {\n",
       "        text-align: right;\n",
       "    }\n",
       "</style>\n",
       "<table border=\"1\" class=\"dataframe\">\n",
       "  <thead>\n",
       "    <tr style=\"text-align: right;\">\n",
       "      <th></th>\n",
       "      <th>ID</th>\n",
       "      <th>Inventarnummer</th>\n",
       "      <th>Sammlung</th>\n",
       "      <th>Webtext</th>\n",
       "      <th>Datierung</th>\n",
       "      <th>Herstellung</th>\n",
       "      <th>Herkunft</th>\n",
       "      <th>Inhalt</th>\n",
       "      <th>Masse</th>\n",
       "      <th>Material und Technik</th>\n",
       "    </tr>\n",
       "    <tr>\n",
       "      <th>Klassifikation</th>\n",
       "      <th></th>\n",
       "      <th></th>\n",
       "      <th></th>\n",
       "      <th></th>\n",
       "      <th></th>\n",
       "      <th></th>\n",
       "      <th></th>\n",
       "      <th></th>\n",
       "      <th></th>\n",
       "      <th></th>\n",
       "    </tr>\n",
       "  </thead>\n",
       "  <tbody>\n",
       "    <tr>\n",
       "      <td>Abhandlung</td>\n",
       "      <td>1</td>\n",
       "      <td>1</td>\n",
       "      <td>1</td>\n",
       "      <td>1</td>\n",
       "      <td>1</td>\n",
       "      <td>1</td>\n",
       "      <td>0</td>\n",
       "      <td>0</td>\n",
       "      <td>1</td>\n",
       "      <td>1</td>\n",
       "    </tr>\n",
       "    <tr>\n",
       "      <td>Albarello</td>\n",
       "      <td>2</td>\n",
       "      <td>2</td>\n",
       "      <td>2</td>\n",
       "      <td>2</td>\n",
       "      <td>2</td>\n",
       "      <td>2</td>\n",
       "      <td>0</td>\n",
       "      <td>0</td>\n",
       "      <td>2</td>\n",
       "      <td>2</td>\n",
       "    </tr>\n",
       "    <tr>\n",
       "      <td>Andenkenglas</td>\n",
       "      <td>5</td>\n",
       "      <td>5</td>\n",
       "      <td>5</td>\n",
       "      <td>5</td>\n",
       "      <td>5</td>\n",
       "      <td>4</td>\n",
       "      <td>3</td>\n",
       "      <td>5</td>\n",
       "      <td>5</td>\n",
       "      <td>5</td>\n",
       "    </tr>\n",
       "    <tr>\n",
       "      <td>Aquamanile (Handgiessgefäss)</td>\n",
       "      <td>5</td>\n",
       "      <td>5</td>\n",
       "      <td>5</td>\n",
       "      <td>5</td>\n",
       "      <td>5</td>\n",
       "      <td>0</td>\n",
       "      <td>3</td>\n",
       "      <td>5</td>\n",
       "      <td>3</td>\n",
       "      <td>4</td>\n",
       "    </tr>\n",
       "    <tr>\n",
       "      <td>Aschenbecher</td>\n",
       "      <td>4</td>\n",
       "      <td>4</td>\n",
       "      <td>4</td>\n",
       "      <td>4</td>\n",
       "      <td>4</td>\n",
       "      <td>4</td>\n",
       "      <td>2</td>\n",
       "      <td>0</td>\n",
       "      <td>4</td>\n",
       "      <td>4</td>\n",
       "    </tr>\n",
       "    <tr>\n",
       "      <td>...</td>\n",
       "      <td>...</td>\n",
       "      <td>...</td>\n",
       "      <td>...</td>\n",
       "      <td>...</td>\n",
       "      <td>...</td>\n",
       "      <td>...</td>\n",
       "      <td>...</td>\n",
       "      <td>...</td>\n",
       "      <td>...</td>\n",
       "      <td>...</td>\n",
       "    </tr>\n",
       "    <tr>\n",
       "      <td>Zuckerstreulöffel</td>\n",
       "      <td>1</td>\n",
       "      <td>1</td>\n",
       "      <td>1</td>\n",
       "      <td>1</td>\n",
       "      <td>1</td>\n",
       "      <td>1</td>\n",
       "      <td>0</td>\n",
       "      <td>0</td>\n",
       "      <td>1</td>\n",
       "      <td>1</td>\n",
       "    </tr>\n",
       "    <tr>\n",
       "      <td>Zunftzeichen</td>\n",
       "      <td>1</td>\n",
       "      <td>1</td>\n",
       "      <td>1</td>\n",
       "      <td>1</td>\n",
       "      <td>1</td>\n",
       "      <td>1</td>\n",
       "      <td>0</td>\n",
       "      <td>1</td>\n",
       "      <td>1</td>\n",
       "      <td>1</td>\n",
       "    </tr>\n",
       "    <tr>\n",
       "      <td>Zylinderflasche</td>\n",
       "      <td>2</td>\n",
       "      <td>2</td>\n",
       "      <td>2</td>\n",
       "      <td>2</td>\n",
       "      <td>2</td>\n",
       "      <td>2</td>\n",
       "      <td>0</td>\n",
       "      <td>1</td>\n",
       "      <td>2</td>\n",
       "      <td>2</td>\n",
       "    </tr>\n",
       "    <tr>\n",
       "      <td>Öl-/Essigständer</td>\n",
       "      <td>8</td>\n",
       "      <td>8</td>\n",
       "      <td>8</td>\n",
       "      <td>8</td>\n",
       "      <td>8</td>\n",
       "      <td>8</td>\n",
       "      <td>3</td>\n",
       "      <td>3</td>\n",
       "      <td>7</td>\n",
       "      <td>8</td>\n",
       "    </tr>\n",
       "    <tr>\n",
       "      <td>Öl-Essigflasche</td>\n",
       "      <td>3</td>\n",
       "      <td>3</td>\n",
       "      <td>3</td>\n",
       "      <td>3</td>\n",
       "      <td>3</td>\n",
       "      <td>1</td>\n",
       "      <td>0</td>\n",
       "      <td>1</td>\n",
       "      <td>3</td>\n",
       "      <td>3</td>\n",
       "    </tr>\n",
       "  </tbody>\n",
       "</table>\n",
       "<p>310 rows × 10 columns</p>\n",
       "</div>"
      ],
      "text/plain": [
       "                               ID   Inventarnummer   Sammlung   Webtext  \\\n",
       " Klassifikation                                                           \n",
       "Abhandlung                      1                1          1         1   \n",
       "Albarello                       2                2          2         2   \n",
       "Andenkenglas                    5                5          5         5   \n",
       "Aquamanile (Handgiessgefäss)    5                5          5         5   \n",
       "Aschenbecher                    4                4          4         4   \n",
       "...                           ...              ...        ...       ...   \n",
       "Zuckerstreulöffel               1                1          1         1   \n",
       "Zunftzeichen                    1                1          1         1   \n",
       "Zylinderflasche                 2                2          2         2   \n",
       "Öl-/Essigständer                8                8          8         8   \n",
       "Öl-Essigflasche                 3                3          3         3   \n",
       "\n",
       "                               Datierung   Herstellung   Herkunft   Inhalt  \\\n",
       " Klassifikation                                                              \n",
       "Abhandlung                             1             1          0        0   \n",
       "Albarello                              2             2          0        0   \n",
       "Andenkenglas                           5             4          3        5   \n",
       "Aquamanile (Handgiessgefäss)           5             0          3        5   \n",
       "Aschenbecher                           4             4          2        0   \n",
       "...                                  ...           ...        ...      ...   \n",
       "Zuckerstreulöffel                      1             1          0        0   \n",
       "Zunftzeichen                           1             1          0        1   \n",
       "Zylinderflasche                        2             2          0        1   \n",
       "Öl-/Essigständer                       8             8          3        3   \n",
       "Öl-Essigflasche                        3             1          0        1   \n",
       "\n",
       "                               Masse   Material und Technik  \n",
       " Klassifikation                                              \n",
       "Abhandlung                         1                      1  \n",
       "Albarello                          2                      2  \n",
       "Andenkenglas                       5                      5  \n",
       "Aquamanile (Handgiessgefäss)       3                      4  \n",
       "Aschenbecher                       4                      4  \n",
       "...                              ...                    ...  \n",
       "Zuckerstreulöffel                  1                      1  \n",
       "Zunftzeichen                       1                      1  \n",
       "Zylinderflasche                    2                      2  \n",
       "Öl-/Essigständer                   7                      8  \n",
       "Öl-Essigflasche                    3                      3  \n",
       "\n",
       "[310 rows x 10 columns]"
      ]
     },
     "execution_count": 21,
     "metadata": {},
     "output_type": "execute_result"
    }
   ],
   "source": [
    "df.groupby(' Klassifikation').count()"
   ]
  },
  {
   "cell_type": "code",
   "execution_count": 22,
   "metadata": {},
   "outputs": [
    {
     "data": {
      "text/plain": [
       "(2903, 11)"
      ]
     },
     "execution_count": 22,
     "metadata": {},
     "output_type": "execute_result"
    }
   ],
   "source": [
    "df.shape"
   ]
  },
  {
   "cell_type": "code",
   "execution_count": 23,
   "metadata": {},
   "outputs": [
    {
     "data": {
      "text/plain": [
       "Teller               False\n",
       "Reliefkachel         False\n",
       "Platte (Geschirr)    False\n",
       "Figur                False\n",
       "Vase                 False\n",
       "                     ...  \n",
       "Zunftzeichen          True\n",
       "Pfeffergefäss         True\n",
       "Tabakpfeife           True\n",
       "Tabakdose             True\n",
       "Tortenplatte          True\n",
       "Name:  Klassifikation, Length: 310, dtype: bool"
      ]
     },
     "execution_count": 23,
     "metadata": {},
     "output_type": "execute_result"
    }
   ],
   "source": [
    "df[' Klassifikation'].value_counts()<2"
   ]
  },
  {
   "cell_type": "code",
   "execution_count": 24,
   "metadata": {},
   "outputs": [],
   "source": [
    "%matplotlib inline"
   ]
  },
  {
   "cell_type": "code",
   "execution_count": 25,
   "metadata": {},
   "outputs": [],
   "source": [
    "cnts=df[' Klassifikation'].value_counts()"
   ]
  },
  {
   "cell_type": "code",
   "execution_count": 26,
   "metadata": {},
   "outputs": [
    {
     "data": {
      "text/plain": [
       "Napf             1\n",
       "Fass             1\n",
       "Kinderbecher     1\n",
       "Dessertmesser    1\n",
       "Kaffeeservice    1\n",
       "                ..\n",
       "Zunftzeichen     1\n",
       "Pfeffergefäss    1\n",
       "Tabakpfeife      1\n",
       "Tabakdose        1\n",
       "Tortenplatte     1\n",
       "Name:  Klassifikation, Length: 119, dtype: int64"
      ]
     },
     "execution_count": 26,
     "metadata": {},
     "output_type": "execute_result"
    }
   ],
   "source": [
    "cnts[cnts<2]"
   ]
  },
  {
   "cell_type": "code",
   "execution_count": 27,
   "metadata": {},
   "outputs": [],
   "source": [
    "# umkehren, um alle Einzelwerte auszugeben?"
   ]
  },
  {
   "cell_type": "code",
   "execution_count": 28,
   "metadata": {},
   "outputs": [
    {
     "ename": "ValueError",
     "evalue": "The truth value of a Series is ambiguous. Use a.empty, a.bool(), a.item(), a.any() or a.all().",
     "output_type": "error",
     "traceback": [
      "\u001b[0;31m---------------------------------------------------------------------------\u001b[0m",
      "\u001b[0;31mValueError\u001b[0m                                Traceback (most recent call last)",
      "\u001b[0;32m<ipython-input-28-7a4cb436dd99>\u001b[0m in \u001b[0;36m<module>\u001b[0;34m\u001b[0m\n\u001b[1;32m      1\u001b[0m \u001b[0;32mfor\u001b[0m \u001b[0meinzelwert\u001b[0m \u001b[0;32min\u001b[0m \u001b[0mcnts\u001b[0m\u001b[0;34m:\u001b[0m\u001b[0;34m\u001b[0m\u001b[0;34m\u001b[0m\u001b[0m\n\u001b[0;32m----> 2\u001b[0;31m     \u001b[0;32mif\u001b[0m \u001b[0mcnts\u001b[0m\u001b[0;34m<\u001b[0m\u001b[0;36m2\u001b[0m\u001b[0;34m:\u001b[0m\u001b[0;34m\u001b[0m\u001b[0;34m\u001b[0m\u001b[0m\n\u001b[0m\u001b[1;32m      3\u001b[0m         \u001b[0mprint\u001b[0m\u001b[0;34m(\u001b[0m\u001b[0meinzelwert\u001b[0m\u001b[0;34m)\u001b[0m\u001b[0;34m\u001b[0m\u001b[0;34m\u001b[0m\u001b[0m\n",
      "\u001b[0;32m~/anaconda3/lib/python3.7/site-packages/pandas/core/generic.py\u001b[0m in \u001b[0;36m__nonzero__\u001b[0;34m(self)\u001b[0m\n\u001b[1;32m   1553\u001b[0m             \u001b[0;34m\"The truth value of a {0} is ambiguous. \"\u001b[0m\u001b[0;34m\u001b[0m\u001b[0;34m\u001b[0m\u001b[0m\n\u001b[1;32m   1554\u001b[0m             \"Use a.empty, a.bool(), a.item(), a.any() or a.all().\".format(\n\u001b[0;32m-> 1555\u001b[0;31m                 \u001b[0mself\u001b[0m\u001b[0;34m.\u001b[0m\u001b[0m__class__\u001b[0m\u001b[0;34m.\u001b[0m\u001b[0m__name__\u001b[0m\u001b[0;34m\u001b[0m\u001b[0;34m\u001b[0m\u001b[0m\n\u001b[0m\u001b[1;32m   1556\u001b[0m             )\n\u001b[1;32m   1557\u001b[0m         )\n",
      "\u001b[0;31mValueError\u001b[0m: The truth value of a Series is ambiguous. Use a.empty, a.bool(), a.item(), a.any() or a.all()."
     ]
    }
   ],
   "source": [
    "for einzelwert in cnts: \n",
    "    if cnts<2:\n",
    "        print(einzelwert)"
   ]
  },
  {
   "cell_type": "code",
   "execution_count": null,
   "metadata": {},
   "outputs": [],
   "source": []
  },
  {
   "cell_type": "code",
   "execution_count": null,
   "metadata": {},
   "outputs": [],
   "source": []
  }
 ],
 "metadata": {
  "kernelspec": {
   "display_name": "Python 3",
   "language": "python",
   "name": "python3"
  },
  "language_info": {
   "codemirror_mode": {
    "name": "ipython",
    "version": 3
   },
   "file_extension": ".py",
   "mimetype": "text/x-python",
   "name": "python",
   "nbconvert_exporter": "python",
   "pygments_lexer": "ipython3",
   "version": "3.7.5"
  }
 },
 "nbformat": 4,
 "nbformat_minor": 4
}
