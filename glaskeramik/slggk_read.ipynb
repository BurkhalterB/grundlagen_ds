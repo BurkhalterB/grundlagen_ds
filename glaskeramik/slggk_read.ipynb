{
 "cells": [
  {
   "cell_type": "code",
   "execution_count": 20,
   "metadata": {},
   "outputs": [
    {
     "name": "stdout",
     "output_type": "stream",
     "text": [
      "{'encoding': 'ISO-8859-1', 'confidence': 0.729383387119405, 'language': ''}\n"
     ]
    }
   ],
   "source": [
    "import chardet\n",
    "from chardet.universaldetector import UniversalDetector\n",
    "import codecs\n",
    "#tellme = codecs.open('keramik_glas.csv',encoding='utf-8')\n",
    "tellme = open('keramik_glas.csv','rb')\n",
    "detector = UniversalDetector()\n",
    "for line in tellme.readlines():\n",
    "    detector.feed(line)\n",
    "    if detector.done: break\n",
    "detector.close()\n",
    "tellme.close()\n",
    "print(detector.result)"
   ]
  },
  {
   "cell_type": "code",
   "execution_count": 8,
   "metadata": {},
   "outputs": [
    {
     "name": "stdout",
     "output_type": "stream",
     "text": [
      "keramik_glas.csv  Untitled.ipynb\n"
     ]
    }
   ],
   "source": [
    "!ls"
   ]
  },
  {
   "cell_type": "code",
   "execution_count": 25,
   "metadata": {},
   "outputs": [],
   "source": [
    "import pandas as pd\n",
    "df = pd.read_csv('keramik_glas.csv', sep= \";\", encoding='ISO-8859-1')"
   ]
  },
  {
   "cell_type": "code",
   "execution_count": 26,
   "metadata": {},
   "outputs": [
    {
     "data": {
      "text/plain": [
       "OBJEKT ID                          int64\n",
       "OBJEKT Inventarnummer             object\n",
       "OBJEKT Sammlung                   object\n",
       "OBJEKT Klassifikation             object\n",
       "OBJEKT Webtext                    object\n",
       "OBJEKT Datierung                  object\n",
       "OBJEKT -> Herstellung             object\n",
       "OBJEKT -> Herkunft                object\n",
       "OBJEKT -> Inhalt                  object\n",
       "OBJEKT -> Masse                   object\n",
       "OBJEKT -> Material und Technik    object\n",
       "dtype: object"
      ]
     },
     "execution_count": 26,
     "metadata": {},
     "output_type": "execute_result"
    }
   ],
   "source": [
    "df.dtypes"
   ]
  },
  {
   "cell_type": "code",
   "execution_count": 27,
   "metadata": {},
   "outputs": [
    {
     "data": {
      "text/plain": [
       "Index(['OBJEKT ID', 'OBJEKT Inventarnummer', 'OBJEKT Sammlung',\n",
       "       'OBJEKT Klassifikation', 'OBJEKT Webtext', 'OBJEKT Datierung',\n",
       "       'OBJEKT -> Herstellung', 'OBJEKT -> Herkunft', 'OBJEKT -> Inhalt',\n",
       "       'OBJEKT -> Masse', 'OBJEKT -> Material und Technik'],\n",
       "      dtype='object')"
      ]
     },
     "execution_count": 27,
     "metadata": {},
     "output_type": "execute_result"
    }
   ],
   "source": [
    "df.columns"
   ]
  },
  {
   "cell_type": "code",
   "execution_count": 30,
   "metadata": {},
   "outputs": [
    {
     "data": {
      "text/plain": [
       "['ID',\n",
       " 'Inventarnummer',\n",
       " 'Sammlung',\n",
       " 'Klassifikation',\n",
       " 'Webtext',\n",
       " 'Datierung',\n",
       " 'Herstellung',\n",
       " 'Herkunft',\n",
       " 'Inhalt',\n",
       " 'Masse',\n",
       " 'Material und Technik']"
      ]
     },
     "execution_count": 30,
     "metadata": {},
     "output_type": "execute_result"
    }
   ],
   "source": [
    "import re\n",
    "[re.sub('OBJEKT -*>* *','',col) for col in df.columns]"
   ]
  },
  {
   "cell_type": "code",
   "execution_count": null,
   "metadata": {},
   "outputs": [],
   "source": []
  }
 ],
 "metadata": {
  "kernelspec": {
   "display_name": "Python 3",
   "language": "python",
   "name": "python3"
  },
  "language_info": {
   "codemirror_mode": {
    "name": "ipython",
    "version": 3
   },
   "file_extension": ".py",
   "mimetype": "text/x-python",
   "name": "python",
   "nbconvert_exporter": "python",
   "pygments_lexer": "ipython3",
   "version": "3.7.4"
  }
 },
 "nbformat": 4,
 "nbformat_minor": 4
}
