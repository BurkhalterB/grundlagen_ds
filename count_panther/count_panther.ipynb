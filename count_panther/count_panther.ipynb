{
 "cells": [
  {
   "cell_type": "code",
   "execution_count": 1,
   "metadata": {},
   "outputs": [],
   "source": [
    "# Mit der folgenden Funktion werden Wörter in einer Datei gezählt"
   ]
  },
  {
   "cell_type": "code",
   "execution_count": 2,
   "metadata": {},
   "outputs": [],
   "source": [
    "# Um die Daten aus einer Datei auszulesen, muss diese zuerst mit der open-Funktion geöffnet werden"
   ]
  },
  {
   "cell_type": "code",
   "execution_count": 3,
   "metadata": {},
   "outputs": [],
   "source": [
    "# Die open Funktion erzeugt ein Dateiobjekt. Mit der Methode rstrip kann man eine Datei zeilenweise einlesen. \n",
    "# Das erscheint hier nicht sehr effektiv, da man ja nicht auf eine bestimmte Zeile zugreifen möchte."
   ]
  },
  {
   "cell_type": "code",
   "execution_count": 13,
   "metadata": {},
   "outputs": [
    {
     "name": "stdout",
     "output_type": "stream",
     "text": [
      "Gedicht Der Panther\n",
      "\n",
      "Im Jardin des Plantes, Paris\n",
      "\n",
      "Sein Blick ist vom Vorübergehn der Stäbe\n",
      "so müd geworden, daß er nichts mehr hält.\n",
      "Ihm ist, als ob es tausend Stäbe gäbe\n",
      "und hinter tausend Stäben keine Welt.\n",
      "\n",
      "Der weiche Gang geschmeidig starker Schritte,\n",
      "der sich im allerkleinsten Kreise dreht,\n",
      "ist wie ein Tanz von Kraft um eine Mitte,\n",
      "in der betäubt ein großer Wille steht.\n",
      "\n",
      "Nur manchmal schiebt der Vorhang der Pupille\n",
      "sich lautlos auf –. Dann geht ein Bild hinein,\n",
      "geht durch der Glieder angespannte Stille –\n",
      "und hört im Herzen auf zu sein.\n"
     ]
    }
   ],
   "source": [
    "with open(\"panther.txt\") as fobj:\n",
    "    for line in fobj:\n",
    "        print(line.rstrip())"
   ]
  },
  {
   "cell_type": "code",
   "execution_count": 6,
   "metadata": {},
   "outputs": [],
   "source": [
    "# Mit der Methode read kann man hingegen eine ganze Datei in einen String einlesen.\n",
    "# Wie definiere/erkenne ich ein Wort: ein Wort ist eine Zeichenkette, die durch Leerzeichen oder Tabs von einem anderen Wort getrennt wird.  \n",
    "# Will man nur die Anzahl Wörter zählen, spielt es keine Rolle, welche Wortarten wir haben, ebenso können Zahlen und Satzzeichen hier vernachlässigt werden.\n",
    "# Wird die ganze Datei in einen String eingelesen, kann man mit den Substrings arbeiten."
   ]
  },
  {
   "cell_type": "code",
   "execution_count": 1,
   "metadata": {},
   "outputs": [
    {
     "data": {
      "text/plain": [
       "81"
      ]
     },
     "execution_count": 1,
     "metadata": {},
     "output_type": "execute_result"
    }
   ],
   "source": [
    "poem = open(\"panther.txt\").read()\n",
    "poem.count(\" \")"
   ]
  },
  {
   "cell_type": "code",
   "execution_count": 7,
   "metadata": {},
   "outputs": [],
   "source": [
    "# ein Tipp war, dass Leerzeichen + 1 die Anzahl Wörter ergibt\n",
    "# Testet man mit einem Online-Tool wie https://www.woerter-zaehlen.de erhält man 93 echte Wörter (zum Vergleich: Windows Word kommt auf 94 Wörter)\n",
    "# Hier haben wir aber Zeilenumbrüche am Ende und keine Leerzeichen..."
   ]
  },
  {
   "cell_type": "code",
   "execution_count": 2,
   "metadata": {},
   "outputs": [
    {
     "data": {
      "text/plain": [
       "99"
      ]
     },
     "execution_count": 2,
     "metadata": {},
     "output_type": "execute_result"
    }
   ],
   "source": [
    "poem = open(\"panther.txt\").read()\n",
    "poem.count(\" \") + poem.count(\"\\n\")"
   ]
  },
  {
   "cell_type": "code",
   "execution_count": null,
   "metadata": {},
   "outputs": [],
   "source": [
    "#Das ganze ist nicht wirklich zielführend. Schaut man sich den genau Text an, sieht man auch, dass der Gedankenstrich zweimal vorkommt. \n",
    "#Die Aufgabe muss aber doch recht einfach zu lösen sein, also mithilfe der Grundlagen aus Klein.\n",
    "#Also neuer Versuch mit der String-Methode split. Hier werden neben Leerzeichen auch Zeilenumbrüche oder andere Whitespaces default mössig als Trenner benutzt."
   ]
  },
  {
   "cell_type": "code",
   "execution_count": 13,
   "metadata": {},
   "outputs": [
    {
     "data": {
      "text/plain": [
       "\u001b[0;31mSignature:\u001b[0m \u001b[0mpoem\u001b[0m\u001b[0;34m.\u001b[0m\u001b[0msplit\u001b[0m\u001b[0;34m(\u001b[0m\u001b[0msep\u001b[0m\u001b[0;34m=\u001b[0m\u001b[0;32mNone\u001b[0m\u001b[0;34m,\u001b[0m \u001b[0mmaxsplit\u001b[0m\u001b[0;34m=\u001b[0m\u001b[0;34m-\u001b[0m\u001b[0;36m1\u001b[0m\u001b[0;34m)\u001b[0m\u001b[0;34m\u001b[0m\u001b[0;34m\u001b[0m\u001b[0m\n",
       "\u001b[0;31mDocstring:\u001b[0m\n",
       "Return a list of the words in the string, using sep as the delimiter string.\n",
       "\n",
       "sep\n",
       "  The delimiter according which to split the string.\n",
       "  None (the default value) means split according to any whitespace,\n",
       "  and discard empty strings from the result.\n",
       "maxsplit\n",
       "  Maximum number of splits to do.\n",
       "  -1 (the default value) means no limit.\n",
       "\u001b[0;31mType:\u001b[0m      builtin_function_or_method\n"
      ]
     },
     "metadata": {},
     "output_type": "display_data"
    }
   ],
   "source": [
    "poem.split??"
   ]
  },
  {
   "cell_type": "code",
   "execution_count": 10,
   "metadata": {},
   "outputs": [
    {
     "data": {
      "text/plain": [
       "['Gedicht',\n",
       " 'Der',\n",
       " 'Panther',\n",
       " 'Im',\n",
       " 'Jardin',\n",
       " 'des',\n",
       " 'Plantes,',\n",
       " 'Paris',\n",
       " 'Sein',\n",
       " 'Blick',\n",
       " 'ist',\n",
       " 'vom',\n",
       " 'Vorübergehn',\n",
       " 'der',\n",
       " 'Stäbe',\n",
       " 'so',\n",
       " 'müd',\n",
       " 'geworden,',\n",
       " 'daß',\n",
       " 'er',\n",
       " 'nichts',\n",
       " 'mehr',\n",
       " 'hält.',\n",
       " 'Ihm',\n",
       " 'ist,',\n",
       " 'als',\n",
       " 'ob',\n",
       " 'es',\n",
       " 'tausend',\n",
       " 'Stäbe',\n",
       " 'gäbe',\n",
       " 'und',\n",
       " 'hinter',\n",
       " 'tausend',\n",
       " 'Stäben',\n",
       " 'keine',\n",
       " 'Welt.',\n",
       " 'Der',\n",
       " 'weiche',\n",
       " 'Gang',\n",
       " 'geschmeidig',\n",
       " 'starker',\n",
       " 'Schritte,',\n",
       " 'der',\n",
       " 'sich',\n",
       " 'im',\n",
       " 'allerkleinsten',\n",
       " 'Kreise',\n",
       " 'dreht,',\n",
       " 'ist',\n",
       " 'wie',\n",
       " 'ein',\n",
       " 'Tanz',\n",
       " 'von',\n",
       " 'Kraft',\n",
       " 'um',\n",
       " 'eine',\n",
       " 'Mitte,',\n",
       " 'in',\n",
       " 'der',\n",
       " 'betäubt',\n",
       " 'ein',\n",
       " 'großer',\n",
       " 'Wille',\n",
       " 'steht.',\n",
       " 'Nur',\n",
       " 'manchmal',\n",
       " 'schiebt',\n",
       " 'der',\n",
       " 'Vorhang',\n",
       " 'der',\n",
       " 'Pupille',\n",
       " 'sich',\n",
       " 'lautlos',\n",
       " 'auf',\n",
       " '–.',\n",
       " 'Dann',\n",
       " 'geht',\n",
       " 'ein',\n",
       " 'Bild',\n",
       " 'hinein,',\n",
       " 'geht',\n",
       " 'durch',\n",
       " 'der',\n",
       " 'Glieder',\n",
       " 'angespannte',\n",
       " 'Stille',\n",
       " '–',\n",
       " 'und',\n",
       " 'hört',\n",
       " 'im',\n",
       " 'Herzen',\n",
       " 'auf',\n",
       " 'zu',\n",
       " 'sein.']"
      ]
     },
     "execution_count": 10,
     "metadata": {},
     "output_type": "execute_result"
    }
   ],
   "source": [
    "poem = open(\"panther.txt\").read()\n",
    "poem.split()"
   ]
  },
  {
   "cell_type": "code",
   "execution_count": 11,
   "metadata": {},
   "outputs": [
    {
     "data": {
      "text/plain": [
       "95"
      ]
     },
     "execution_count": 11,
     "metadata": {},
     "output_type": "execute_result"
    }
   ],
   "source": [
    "poem = open(\"panther.txt\").read()\n",
    "len(poem.split())"
   ]
  },
  {
   "cell_type": "code",
   "execution_count": 10,
   "metadata": {},
   "outputs": [],
   "source": [
    "# Hiersind noch 2 Gedankenstriche drin. Wie kriegt man den raus? Achtung: Gedankenstrich = dash, nicht Bindestrich = hyphen"
   ]
  },
  {
   "cell_type": "code",
   "execution_count": null,
   "metadata": {},
   "outputs": [],
   "source": [
    "# Mit der Methode translate kann man alle Satzzeichen entefernen. Das funktioniert, bis auf die Gedankenstriche...."
   ]
  },
  {
   "cell_type": "code",
   "execution_count": 8,
   "metadata": {},
   "outputs": [
    {
     "data": {
      "text/plain": [
       "93"
      ]
     },
     "execution_count": 8,
     "metadata": {},
     "output_type": "execute_result"
    }
   ],
   "source": [
    "poem = open(\"panther.txt\").read()\n",
    "import string\n",
    "s = string.punctuation + chr(8211)\n",
    "#translator = str.maketrans('', '', string.punctuation)\n",
    "translator = str.maketrans('', '', s)\n",
    "new_string = poem.translate(translator)\n",
    "#len(poem.split())\n",
    "len(new_string.split())"
   ]
  },
  {
   "cell_type": "code",
   "execution_count": 9,
   "metadata": {},
   "outputs": [
    {
     "data": {
      "text/plain": [
       "'Gedicht Der Panther\\n\\nIm Jardin des Plantes Paris\\n\\nSein Blick ist vom Vorübergehn der Stäbe\\nso müd geworden daß er nichts mehr hält\\nIhm ist als ob es tausend Stäbe gäbe\\nund hinter tausend Stäben keine Welt\\n\\nDer weiche Gang geschmeidig starker Schritte\\nder sich im allerkleinsten Kreise dreht\\nist wie ein Tanz von Kraft um eine Mitte\\nin der betäubt ein großer Wille steht\\n\\nNur manchmal schiebt der Vorhang der Pupille\\nsich lautlos auf  Dann geht ein Bild hinein\\ngeht durch der Glieder angespannte Stille \\nund hört im Herzen auf zu sein\\n'"
      ]
     },
     "execution_count": 9,
     "metadata": {},
     "output_type": "execute_result"
    }
   ],
   "source": [
    "new_string"
   ]
  },
  {
   "cell_type": "code",
   "execution_count": 2,
   "metadata": {},
   "outputs": [
    {
     "data": {
      "text/plain": [
       "['Gedicht',\n",
       " 'Der',\n",
       " 'Panther',\n",
       " 'Im',\n",
       " 'Jardin',\n",
       " 'des',\n",
       " 'Plantes,',\n",
       " 'Paris',\n",
       " 'Sein',\n",
       " 'Blick',\n",
       " 'ist',\n",
       " 'vom',\n",
       " 'Vorübergehn',\n",
       " 'der',\n",
       " 'Stäbe',\n",
       " 'so',\n",
       " 'müd',\n",
       " 'geworden,',\n",
       " 'daß',\n",
       " 'er',\n",
       " 'nichts',\n",
       " 'mehr',\n",
       " 'hält.',\n",
       " 'Ihm',\n",
       " 'ist,',\n",
       " 'als',\n",
       " 'ob',\n",
       " 'es',\n",
       " 'tausend',\n",
       " 'Stäbe',\n",
       " 'gäbe',\n",
       " 'und',\n",
       " 'hinter',\n",
       " 'tausend',\n",
       " 'Stäben',\n",
       " 'keine',\n",
       " 'Welt.',\n",
       " 'Der',\n",
       " 'weiche',\n",
       " 'Gang',\n",
       " 'geschmeidig',\n",
       " 'starker',\n",
       " 'Schritte,',\n",
       " 'der',\n",
       " 'sich',\n",
       " 'im',\n",
       " 'allerkleinsten',\n",
       " 'Kreise',\n",
       " 'dreht,',\n",
       " 'ist',\n",
       " 'wie',\n",
       " 'ein',\n",
       " 'Tanz',\n",
       " 'von',\n",
       " 'Kraft',\n",
       " 'um',\n",
       " 'eine',\n",
       " 'Mitte,',\n",
       " 'in',\n",
       " 'der',\n",
       " 'betäubt',\n",
       " 'ein',\n",
       " 'großer',\n",
       " 'Wille',\n",
       " 'steht.',\n",
       " 'Nur',\n",
       " 'manchmal',\n",
       " 'schiebt',\n",
       " 'der',\n",
       " 'Vorhang',\n",
       " 'der',\n",
       " 'Pupille',\n",
       " 'sich',\n",
       " 'lautlos',\n",
       " 'auf',\n",
       " '–.',\n",
       " 'Dann',\n",
       " 'geht',\n",
       " 'ein',\n",
       " 'Bild',\n",
       " 'hinein,',\n",
       " 'geht',\n",
       " 'durch',\n",
       " 'der',\n",
       " 'Glieder',\n",
       " 'angespannte',\n",
       " 'Stille',\n",
       " '–',\n",
       " 'und',\n",
       " 'hört',\n",
       " 'im',\n",
       " 'Herzen',\n",
       " 'auf',\n",
       " 'zu',\n",
       " 'sein.']"
      ]
     },
     "execution_count": 2,
     "metadata": {},
     "output_type": "execute_result"
    }
   ],
   "source": [
    "poem.split()"
   ]
  },
  {
   "cell_type": "code",
   "execution_count": 15,
   "metadata": {},
   "outputs": [
    {
     "data": {
      "text/plain": [
       "(str, 8211, 45)"
      ]
     },
     "execution_count": 15,
     "metadata": {},
     "output_type": "execute_result"
    }
   ],
   "source": [
    "s = poem.translate(translator)\n",
    "type(s),ord('–'),ord('-')"
   ]
  },
  {
   "cell_type": "code",
   "execution_count": 14,
   "metadata": {},
   "outputs": [
    {
     "data": {
      "text/plain": [
       "\u001b[0;31mSignature:\u001b[0m \u001b[0mord\u001b[0m\u001b[0;34m(\u001b[0m\u001b[0mc\u001b[0m\u001b[0;34m,\u001b[0m \u001b[0;34m/\u001b[0m\u001b[0;34m)\u001b[0m\u001b[0;34m\u001b[0m\u001b[0;34m\u001b[0m\u001b[0m\n",
       "\u001b[0;31mDocstring:\u001b[0m Return the Unicode code point for a one-character string.\n",
       "\u001b[0;31mType:\u001b[0m      builtin_function_or_method\n"
      ]
     },
     "metadata": {},
     "output_type": "display_data"
    }
   ],
   "source": [
    "ord?"
   ]
  },
  {
   "cell_type": "code",
   "execution_count": 17,
   "metadata": {},
   "outputs": [
    {
     "data": {
      "text/plain": [
       "('–', '굅')"
      ]
     },
     "execution_count": 17,
     "metadata": {},
     "output_type": "execute_result"
    }
   ],
   "source": [
    "chr(8211), chr(44357)"
   ]
  },
  {
   "cell_type": "code",
   "execution_count": 4,
   "metadata": {},
   "outputs": [],
   "source": [
    "# Ein anderer Tipp war, es mit Zählen zu versuchen. Dieser Weg ergibt die exakte Anzahl Zeichen"
   ]
  },
  {
   "cell_type": "code",
   "execution_count": 5,
   "metadata": {},
   "outputs": [
    {
     "name": "stdout",
     "output_type": "stream",
     "text": [
      "548\n"
     ]
    }
   ],
   "source": [
    "poem = open(\"panther.txt\").read()\n",
    "print(len(poem))\n",
    "counter = 0\n",
    "tracker =0\n",
    "last = 0\n",
    "import string\n",
    "for e in poem:\n",
    "    tracker += 1\n",
    "    if e not in string.ascii_lowercase or string.ascii_uppercase:\n",
    "    \n",
    "        if tracker - last >=1:\n",
    "            counter += 1\n",
    "    \n",
    "    else:\n",
    "        pass"
   ]
  },
  {
   "cell_type": "code",
   "execution_count": null,
   "metadata": {},
   "outputs": [],
   "source": [
    "# What next? Ein intelligentes Programm nutzen..."
   ]
  }
 ],
 "metadata": {
  "kernelspec": {
   "display_name": "Python 3",
   "language": "python",
   "name": "python3"
  },
  "language_info": {
   "codemirror_mode": {
    "name": "ipython",
    "version": 3
   },
   "file_extension": ".py",
   "mimetype": "text/x-python",
   "name": "python",
   "nbconvert_exporter": "python",
   "pygments_lexer": "ipython3",
   "version": "3.7.4"
  }
 },
 "nbformat": 4,
 "nbformat_minor": 4
}
