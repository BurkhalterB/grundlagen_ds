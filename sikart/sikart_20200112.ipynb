{
 "cells": [
  {
   "cell_type": "code",
   "execution_count": 2,
   "metadata": {},
   "outputs": [],
   "source": [
    "import pandas as pd\n",
    "df = pd.read_csv('SIK_ISEA_Personen.csv', sep= \";\")"
   ]
  },
  {
   "cell_type": "code",
   "execution_count": 3,
   "metadata": {},
   "outputs": [
    {
     "data": {
      "text/plain": [
       "HAUPTNR                int64\n",
       "NUTZUNGSLIZENZ        object\n",
       "BEREICH               object\n",
       "TYPUS                 object\n",
       "NAME_VORNAME          object\n",
       "NAME                  object\n",
       "VORNAME               object\n",
       "NAMENSZUSATZ          object\n",
       "GEBURTSJAHR          float64\n",
       "GEBURTSDATUM          object\n",
       "GEBURTSORT            object\n",
       "GEBURTSLAND           object\n",
       "STERBEJAHR           float64\n",
       "STERBEORT             object\n",
       "STERBELAND            object\n",
       "STERBEDATUM           object\n",
       "LEBENSDATEN           object\n",
       "GND                   object\n",
       "HLS_ID               float64\n",
       "SIKART_LINK           object\n",
       "BEARBEITUNGSTIEFE     object\n",
       "dtype: object"
      ]
     },
     "execution_count": 3,
     "metadata": {},
     "output_type": "execute_result"
    }
   ],
   "source": [
    "df.dtypes"
   ]
  },
  {
   "cell_type": "code",
   "execution_count": null,
   "metadata": {},
   "outputs": [],
   "source": [
    "# Spaltennamen ermitteln"
   ]
  },
  {
   "cell_type": "code",
   "execution_count": 4,
   "metadata": {},
   "outputs": [
    {
     "data": {
      "text/plain": [
       "Index(['HAUPTNR', 'NUTZUNGSLIZENZ', 'BEREICH', 'TYPUS', 'NAME_VORNAME', 'NAME',\n",
       "       'VORNAME', 'NAMENSZUSATZ', 'GEBURTSJAHR', 'GEBURTSDATUM', 'GEBURTSORT',\n",
       "       'GEBURTSLAND', 'STERBEJAHR', 'STERBEORT', 'STERBELAND', 'STERBEDATUM',\n",
       "       'LEBENSDATEN', 'GND', 'HLS_ID', 'SIKART_LINK', 'BEARBEITUNGSTIEFE'],\n",
       "      dtype='object')"
      ]
     },
     "execution_count": 4,
     "metadata": {},
     "output_type": "execute_result"
    }
   ],
   "source": [
    "df.columns"
   ]
  },
  {
   "cell_type": "code",
   "execution_count": null,
   "metadata": {},
   "outputs": [],
   "source": [
    "# Jeden Begriff der Spalte Geburtsort ausgeben"
   ]
  },
  {
   "cell_type": "code",
   "execution_count": 7,
   "metadata": {},
   "outputs": [
    {
     "data": {
      "text/plain": [
       "array(['Affoltern am Albis', 'Ardon', 'Bulle', ..., 'Zell a. H.',\n",
       "       'Genève (Canton)', 'Rostock'], dtype=object)"
      ]
     },
     "execution_count": 7,
     "metadata": {},
     "output_type": "execute_result"
    }
   ],
   "source": [
    "df['GEBURTSORT'].unique()"
   ]
  },
  {
   "cell_type": "code",
   "execution_count": 8,
   "metadata": {},
   "outputs": [],
   "source": [
    "# Anzahl Geburtsorte ermitteln"
   ]
  },
  {
   "cell_type": "code",
   "execution_count": 11,
   "metadata": {},
   "outputs": [
    {
     "data": {
      "text/plain": [
       "3065"
      ]
     },
     "execution_count": 11,
     "metadata": {},
     "output_type": "execute_result"
    }
   ],
   "source": [
    "df['GEBURTSORT'].nunique()"
   ]
  },
  {
   "cell_type": "code",
   "execution_count": 13,
   "metadata": {},
   "outputs": [
    {
     "data": {
      "text/plain": [
       "array(['CH', 'E', 'F', 'D', 'I', 'USA', nan, 'SK', 'H', 'A', 'CZ', 'RUS',\n",
       "       'MOC', 'UY', 'ET', 'PL', 'FL', 'R', 'ZA', 'S', 'RCH', 'IND', 'SF',\n",
       "       'MA', 'HR', 'BIH', 'AUS', 'CI', 'B', 'VD', 'CDN', 'GB', 'BRD',\n",
       "       'BR', 'NL', 'LA MARTINIQUE', 'DK', 'LV', 'EST', 'IRQ', 'IR', 'RA',\n",
       "       'GR', 'GEO', 'AFG', 'MEX', 'TR', 'RO', 'IL', 'YU', 'P', 'BRA',\n",
       "       'ESTLAND', 'VN', 'SYR', 'YV', 'DZ', 'RB', 'SLO', 'LETTLAND', 'J',\n",
       "       'BG', 'CAN', 'CO', 'U', 'LT', 'IRL', 'JA', 'UKR', 'GH',\n",
       "       'SCHLESIEN', 'C', 'RC', 'CR', 'CGO', 'TN', 'PI', 'GÉORGIE', 'KOR',\n",
       "       'RL', 'CS', 'MC', 'RI', 'SGP', 'NIG', 'EAT', 'CORÉE DU SUD', 'UA',\n",
       "       'BALTIKUM', 'VIETNAM', 'L', 'NZ', 'BA', 'N', 'PE', 'ZIMBABWE',\n",
       "       'ESTONIE', 'ZENTRALAFRIKA', 'TX', 'VS', 'CAM', 'MK', 'PTM',\n",
       "       'MACEDONIA', 'USSR', 'CAMÉROUN', 'SEN', 'SCG', 'TAIWAN',\n",
       "       'WEISSRUSSLAND', 'NEPAL', 'EC', 'BOL', 'GCA', 'MAZEDONIEN',\n",
       "       'INDONESIEN', 'IT', 'Z', 'T', 'SN'], dtype=object)"
      ]
     },
     "execution_count": 13,
     "metadata": {},
     "output_type": "execute_result"
    }
   ],
   "source": [
    "df['GEBURTSLAND'].unique()"
   ]
  },
  {
   "cell_type": "code",
   "execution_count": null,
   "metadata": {},
   "outputs": [],
   "source": []
  }
 ],
 "metadata": {
  "kernelspec": {
   "display_name": "Python 3",
   "language": "python",
   "name": "python3"
  },
  "language_info": {
   "codemirror_mode": {
    "name": "ipython",
    "version": 3
   },
   "file_extension": ".py",
   "mimetype": "text/x-python",
   "name": "python",
   "nbconvert_exporter": "python",
   "pygments_lexer": "ipython3",
   "version": "3.7.5"
  }
 },
 "nbformat": 4,
 "nbformat_minor": 4
}
