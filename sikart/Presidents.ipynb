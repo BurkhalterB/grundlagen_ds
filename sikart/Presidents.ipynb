{
 "cells": [
  {
   "cell_type": "code",
   "execution_count": 2,
   "metadata": {},
   "outputs": [],
   "source": [
    "import pandas as pd\n",
    "import numpy as np"
   ]
  },
  {
   "cell_type": "code",
   "execution_count": 3,
   "metadata": {},
   "outputs": [
    {
     "name": "stdout",
     "output_type": "stream",
     "text": [
      "/home/ptrsn\n"
     ]
    }
   ],
   "source": [
    "cd /home/ptrsn"
   ]
  },
  {
   "cell_type": "code",
   "execution_count": 4,
   "metadata": {},
   "outputs": [
    {
     "name": "stdout",
     "output_type": "stream",
     "text": [
      "\u001b[0m\u001b[01;34manaconda3\u001b[0m/        \u001b[01;34mgdsdok\u001b[0m/         \u001b[01;34mgrds-workshops\u001b[0m/             \u001b[01;34msikart\u001b[0m/\n",
      "\u001b[01;34mBilder\u001b[0m/           \u001b[01;34mgit_andere\u001b[0m/     \u001b[01;34mpractice\u001b[0m/                   \u001b[01;34mslgglaskeramik\u001b[0m/\n",
      "\u001b[01;34mcount_panther\u001b[0m/    \u001b[01;34mgit_test\u001b[0m/       \u001b[01;34mPythonDataScienceHandbook\u001b[0m/  \u001b[01;34muebungen\u001b[0m/\n",
      "\u001b[01;34mDownloads\u001b[0m/        \u001b[01;34mgrds\u001b[0m/           \u001b[01;34mSchreibtisch\u001b[0m/\n",
      "examples.desktop  \u001b[01;34mgrds_hs_19_20\u001b[0m/  \u001b[01;34msemesterarbeit\u001b[0m/\n"
     ]
    }
   ],
   "source": [
    "ls"
   ]
  },
  {
   "cell_type": "code",
   "execution_count": 5,
   "metadata": {},
   "outputs": [
    {
     "name": "stdout",
     "output_type": "stream",
     "text": [
      "/home/ptrsn/PythonDataScienceHandbook/notebooks/data\n"
     ]
    }
   ],
   "source": [
    "cd /home/ptrsn/PythonDataScienceHandbook/notebooks/data"
   ]
  },
  {
   "cell_type": "code",
   "execution_count": 6,
   "metadata": {},
   "outputs": [],
   "source": [
    "data = pd.read_csv('president_heights.csv')"
   ]
  },
  {
   "cell_type": "code",
   "execution_count": 7,
   "metadata": {},
   "outputs": [
    {
     "name": "stdout",
     "output_type": "stream",
     "text": [
      "[189 170 189 163 183 171 185 168 173 183 173 173 175 178 183 193 178 173\n",
      " 174 183 183 168 170 178 182 180 183 178 182 188 175 179 183 193 182 183\n",
      " 177 185 188 188 182 185]\n"
     ]
    }
   ],
   "source": [
    "heights = np.array(data['height(cm)'])\n",
    "print(heights)"
   ]
  },
  {
   "cell_type": "code",
   "execution_count": 8,
   "metadata": {},
   "outputs": [
    {
     "name": "stdout",
     "output_type": "stream",
     "text": [
      "Durchschnittsgrösse: 179.73809523809524\n",
      "Standardabweichung : 6.931843442745892\n",
      "Minimale Grösse    : 163\n",
      "Maximale Grösse    : 193\n"
     ]
    }
   ],
   "source": [
    "print(\"Durchschnittsgrösse:\", heights.mean())\n",
    "print(\"Standardabweichung :\", heights.std())\n",
    "print(\"Minimale Grösse    :\", heights.min())\n",
    "print(\"Maximale Grösse    :\", heights.max())"
   ]
  },
  {
   "cell_type": "code",
   "execution_count": 9,
   "metadata": {},
   "outputs": [
    {
     "name": "stdout",
     "output_type": "stream",
     "text": [
      "Unteres Quartil: 174.25\n",
      "Median         : 182.0\n",
      "Oberes Quartil : 183.0\n"
     ]
    }
   ],
   "source": [
    "print(\"Unteres Quartil:\", np.percentile(heights, 25))\n",
    "print(\"Median         :\", np.median(heights))\n",
    "print(\"Oberes Quartil :\", np.percentile(heights, 75))"
   ]
  },
  {
   "cell_type": "code",
   "execution_count": 10,
   "metadata": {},
   "outputs": [],
   "source": [
    "%matplotlib inline\n",
    "import matplotlib.pyplot as plt\n",
    "import seaborn; seaborn.set() #Diagrammstil"
   ]
  },
  {
   "cell_type": "code",
   "execution_count": 13,
   "metadata": {},
   "outputs": [
    {
     "data": {
      "text/plain": [
       "Text(0, 0.5, 'Anzahl')"
      ]
     },
     "execution_count": 13,
     "metadata": {},
     "output_type": "execute_result"
    },
    {
     "data": {
      "image/png": "[encoded data removed]",
      "text/plain": [
       "<Figure size 432x288 with 1 Axes>"
      ]
     },
     "metadata": {
      "needs_background": "light"
     },
     "output_type": "display_data"
    }
   ],
   "source": [
    "plt.hist(heights)\n",
    "plt.title('Verteilung der Grösse der US-Präsidenten')\n",
    "plt.xlabel('Grösse in cm')\n",
    "plt.ylabel('Anzahl')"
   ]
  },
  {
   "cell_type": "code",
   "execution_count": null,
   "metadata": {},
   "outputs": [],
   "source": []
  },
  {
   "cell_type": "code",
   "execution_count": null,
   "metadata": {},
   "outputs": [],
   "source": []
  }
 ],
 "metadata": {
  "kernelspec": {
   "display_name": "Python 3",
   "language": "python",
   "name": "python3"
  },
  "language_info": {
   "codemirror_mode": {
    "name": "ipython",
    "version": 3
   },
   "file_extension": ".py",
   "mimetype": "text/x-python",
   "name": "python",
   "nbconvert_exporter": "python",
   "pygments_lexer": "ipython3",
   "version": "3.7.5"
  }
 },
 "nbformat": 4,
 "nbformat_minor": 4
}
